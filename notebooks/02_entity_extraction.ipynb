{
 "cells": [
  {
   "cell_type": "code",
   "execution_count": 3,
   "id": "bf489b4b-3da8-4185-93db-658aa2abb837",
   "metadata": {},
   "outputs": [
    {
     "name": "stdout",
     "output_type": "stream",
     "text": [
      "Using column: transcription — 4999 rows\n"
     ]
    },
    {
     "name": "stderr",
     "output_type": "stream",
     "text": [
      "100%|██████████████████████████████████████████████████████████████████████████████| 4999/4999 [07:13<00:00, 11.54it/s]\n"
     ]
    },
    {
     "name": "stdout",
     "output_type": "stream",
     "text": [
      "Saved 4999 rows to: C:\\Users\\praty\\Downloads\\Mirai\\data\\processed\\entities_extracted_bio.csv\n"
     ]
    }
   ],
   "source": [
    "from pathlib import Path\n",
    "import pandas as pd\n",
    "import spacy\n",
    "from tqdm import tqdm\n",
    "\n",
    "nlp_bio = spacy.load(\"en_ner_bc5cdr_md\")\n",
    "\n",
    "DATA_PATH = Path(\"../data/processed/cleaned_transcriptions.csv\")\n",
    "df = pd.read_csv(DATA_PATH)\n",
    "\n",
    "preferred_keywords = [\"transcript\", \"text\", \"content\", \"utterance\", \"description\"]\n",
    "text_col = None\n",
    "for kw in preferred_keywords:\n",
    "    matches = [col for col in df.columns if kw.lower() in col.lower()]\n",
    "    if matches:\n",
    "        text_col = matches[0]\n",
    "        break\n",
    "if text_col is None:\n",
    "    for col in df.columns:\n",
    "        if df[col].dtype == object:\n",
    "            text_col = col\n",
    "            break\n",
    "if text_col is None:\n",
    "    raise ValueError(\"No text-like column found in the CSV.\")\n",
    "\n",
    "print(f\"Using column: {text_col} — {len(df)} rows\")\n",
    "\n",
    "entities_all = []\n",
    "for doc in tqdm(nlp_bio.pipe(df[text_col].astype(str), batch_size=20), total=len(df)):\n",
    "    entities_all.append([\n",
    "        {\"text\": ent.text, \"label\": ent.label_, \"start\": ent.start_char, \"end\": ent.end_char}\n",
    "        for ent in doc.ents\n",
    "    ])\n",
    "df[\"entities\"] = entities_all\n",
    "\n",
    "OUTPUT_PATH = Path(r\"C:\\Users\\praty\\Downloads\\Mirai\\data\\processed\\entities_extracted_bio.csv\")\n",
    "OUTPUT_PATH.parent.mkdir(parents=True, exist_ok=True)\n",
    "df.to_csv(OUTPUT_PATH, index=False)\n",
    "\n",
    "print(f\"Saved {len(df)} rows to: {OUTPUT_PATH.resolve()}\")"
   ]
  },
  {
   "cell_type": "code",
   "execution_count": 15,
   "id": "95f65585-ebe1-4fa0-9b5f-33a4667c1ce1",
   "metadata": {},
   "outputs": [],
   "source": [
    "#small tests"
   ]
  },
  {
   "cell_type": "code",
   "execution_count": 11,
   "id": "03715e80-2d27-4ab3-8af2-18cc3adc984a",
   "metadata": {},
   "outputs": [
    {
     "name": "stdout",
     "output_type": "stream",
     "text": [
      "[('pain', 3285), ('bleeding', 1315), ('tumor', 756), ('infection', 734), ('hypertension', 642), ('edema', 639), ('fracture', 634), ('tenderness', 586), ('p.o', 581), ('stenosis', 578), ('chest pain', 568), ('alcohol', 566), ('shortness of breath', 557), ('fever', 553), ('swelling', 546), ('lidocaine', 515), ('Marcaine', 509), ('cough', 421), ('creatinine', 404), ('diabetes', 384)]\n"
     ]
    }
   ],
   "source": [
    "import ast #top diseases/chemicals\n",
    "from collections import Counter\n",
    "\n",
    "all_ents = []\n",
    "for ents_str in df[\"entities\"]:\n",
    "    ents = ents_str if isinstance(ents_str, list) else ast.literal_eval(ents_str)\n",
    "    all_ents.extend(ent[\"text\"] for ent in ents if ent[\"label\"] in [\"DISEASE\", \"CHEMICAL\"])\n",
    "\n",
    "print(Counter(all_ents).most_common(20))"
   ]
  },
  {
   "cell_type": "code",
   "execution_count": 9,
   "id": "f1b8ac9a-9c57-4da0-b328-a5eecf2b7b57",
   "metadata": {},
   "outputs": [
    {
     "name": "stdout",
     "output_type": "stream",
     "text": [
      "Counter({'DISEASE': 64667, 'CHEMICAL': 23197})\n"
     ]
    }
   ],
   "source": [
    "type_counts = Counter(ent[\"label\"] for ents_str in df[\"entities\"] for ent in (ents_str if isinstance(ents_str, list) else ast.literal_eval(ents_str)))\n",
    "print(type_counts) #Disease vs chemicals"
   ]
  },
  {
   "cell_type": "code",
   "execution_count": 13,
   "id": "63cdf1b7-e12d-49c4-b4fd-799260da9c15",
   "metadata": {},
   "outputs": [
    {
     "name": "stdout",
     "output_type": "stream",
     "text": [
      "[('pain', 3285), ('bleeding', 1315), ('tumor', 756), ('infection', 734), ('hypertension', 642), ('edema', 639), ('fracture', 634), ('tenderness', 586), ('p.o', 581), ('stenosis', 578), ('chest pain', 568), ('alcohol', 566), ('shortness of breath', 557), ('fever', 553), ('swelling', 546), ('lidocaine', 515), ('Marcaine', 509), ('cough', 421), ('creatinine', 404), ('diabetes', 384)]\n"
     ]
    }
   ],
   "source": [
    "import ast\n",
    "from collections import Counter\n",
    "\n",
    "all_entities = []\n",
    "for ents_str in df[\"entities\"]:\n",
    "    ents = ents_str if isinstance(ents_str, list) else ast.literal_eval(ents_str)\n",
    "    all_entities.extend(ent[\"text\"] for ent in ents)\n",
    "\n",
    "entity_freq = Counter(all_entities)\n",
    "print(entity_freq.most_common(20))"
   ]
  }
 ],
 "metadata": {
  "kernelspec": {
   "display_name": "Python [conda env:base] *",
   "language": "python",
   "name": "conda-base-py"
  },
  "language_info": {
   "codemirror_mode": {
    "name": "ipython",
    "version": 3
   },
   "file_extension": ".py",
   "mimetype": "text/x-python",
   "name": "python",
   "nbconvert_exporter": "python",
   "pygments_lexer": "ipython3",
   "version": "3.12.7"
  }
 },
 "nbformat": 4,
 "nbformat_minor": 5
}
